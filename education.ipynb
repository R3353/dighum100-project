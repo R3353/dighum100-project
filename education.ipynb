{
 "cells": [
  {
   "cell_type": "code",
   "execution_count": 1,
   "metadata": {},
   "outputs": [],
   "source": [
    "import pandas as pd\n",
    "import matplotlib.pyplot as plt\n",
    "import seaborn as sns\n",
    "import numpy as np"
   ]
  },
  {
   "cell_type": "code",
   "execution_count": 4,
   "metadata": {},
   "outputs": [],
   "source": [
    "#dfs = pd.read_csv('~/Downloads/health.csv')\n",
    "budget = pd.read_csv('~/Downloads/usa-education-budget-analysis_zip/data/budget_csv.csv')\n",
    "data = pd.read_csv('~/Downloads/usa-education-budget-analysis_zip/data/data_csv.csv')"
   ]
  },
  {
   "cell_type": "code",
   "execution_count": 15,
   "metadata": {},
   "outputs": [
    {
     "data": {
      "text/html": [
       "<div>\n",
       "<style scoped>\n",
       "    .dataframe tbody tr th:only-of-type {\n",
       "        vertical-align: middle;\n",
       "    }\n",
       "\n",
       "    .dataframe tbody tr th {\n",
       "        vertical-align: top;\n",
       "    }\n",
       "\n",
       "    .dataframe thead th {\n",
       "        text-align: right;\n",
       "    }\n",
       "</style>\n",
       "<table border=\"1\" class=\"dataframe\">\n",
       "  <thead>\n",
       "    <tr style=\"text-align: right;\">\n",
       "      <th></th>\n",
       "      <th>Name</th>\n",
       "      <th>Year</th>\n",
       "      <th>Value</th>\n",
       "    </tr>\n",
       "  </thead>\n",
       "  <tbody>\n",
       "    <tr>\n",
       "      <th>0</th>\n",
       "      <td>Legislative Branch</td>\n",
       "      <td>1976</td>\n",
       "      <td>936.0</td>\n",
       "    </tr>\n",
       "    <tr>\n",
       "      <th>1</th>\n",
       "      <td>Legislative Branch</td>\n",
       "      <td>1977</td>\n",
       "      <td>1057.0</td>\n",
       "    </tr>\n",
       "    <tr>\n",
       "      <th>2</th>\n",
       "      <td>Legislative Branch</td>\n",
       "      <td>1978</td>\n",
       "      <td>1087.0</td>\n",
       "    </tr>\n",
       "    <tr>\n",
       "      <th>3</th>\n",
       "      <td>Legislative Branch</td>\n",
       "      <td>1979</td>\n",
       "      <td>1131.0</td>\n",
       "    </tr>\n",
       "    <tr>\n",
       "      <th>4</th>\n",
       "      <td>Legislative Branch</td>\n",
       "      <td>1980</td>\n",
       "      <td>1318.0</td>\n",
       "    </tr>\n",
       "  </tbody>\n",
       "</table>\n",
       "</div>"
      ],
      "text/plain": [
       "                 Name  Year   Value\n",
       "0  Legislative Branch  1976   936.0\n",
       "1  Legislative Branch  1977  1057.0\n",
       "2  Legislative Branch  1978  1087.0\n",
       "3  Legislative Branch  1979  1131.0\n",
       "4  Legislative Branch  1980  1318.0"
      ]
     },
     "execution_count": 15,
     "metadata": {},
     "output_type": "execute_result"
    }
   ],
   "source": [
    "budget.head()\n",
    "#sns.lineplot(data=budget, x='Year', y='Value')"
   ]
  },
  {
   "cell_type": "code",
   "execution_count": 6,
   "metadata": {},
   "outputs": [
    {
     "data": {
      "text/html": [
       "<div>\n",
       "<style scoped>\n",
       "    .dataframe tbody tr th:only-of-type {\n",
       "        vertical-align: middle;\n",
       "    }\n",
       "\n",
       "    .dataframe tbody tr th {\n",
       "        vertical-align: top;\n",
       "    }\n",
       "\n",
       "    .dataframe thead th {\n",
       "        text-align: right;\n",
       "    }\n",
       "</style>\n",
       "<table border=\"1\" class=\"dataframe\">\n",
       "  <thead>\n",
       "    <tr style=\"text-align: right;\">\n",
       "      <th></th>\n",
       "      <th>YEAR</th>\n",
       "      <th>BUDGET_ON_EDUCATION</th>\n",
       "      <th>GDP</th>\n",
       "      <th>RATIO</th>\n",
       "    </tr>\n",
       "  </thead>\n",
       "  <tbody>\n",
       "    <tr>\n",
       "      <th>0</th>\n",
       "      <td>1976</td>\n",
       "      <td>9314.0</td>\n",
       "      <td>1877587.0</td>\n",
       "      <td>0.496</td>\n",
       "    </tr>\n",
       "    <tr>\n",
       "      <th>1</th>\n",
       "      <td>1977</td>\n",
       "      <td>10568.0</td>\n",
       "      <td>2085951.0</td>\n",
       "      <td>0.507</td>\n",
       "    </tr>\n",
       "    <tr>\n",
       "      <th>2</th>\n",
       "      <td>1978</td>\n",
       "      <td>11625.0</td>\n",
       "      <td>2356571.0</td>\n",
       "      <td>0.493</td>\n",
       "    </tr>\n",
       "    <tr>\n",
       "      <th>3</th>\n",
       "      <td>1979</td>\n",
       "      <td>13996.0</td>\n",
       "      <td>2632143.0</td>\n",
       "      <td>0.532</td>\n",
       "    </tr>\n",
       "    <tr>\n",
       "      <th>4</th>\n",
       "      <td>1980</td>\n",
       "      <td>15209.0</td>\n",
       "      <td>2862505.0</td>\n",
       "      <td>0.531</td>\n",
       "    </tr>\n",
       "  </tbody>\n",
       "</table>\n",
       "</div>"
      ],
      "text/plain": [
       "   YEAR  BUDGET_ON_EDUCATION        GDP  RATIO\n",
       "0  1976               9314.0  1877587.0  0.496\n",
       "1  1977              10568.0  2085951.0  0.507\n",
       "2  1978              11625.0  2356571.0  0.493\n",
       "3  1979              13996.0  2632143.0  0.532\n",
       "4  1980              15209.0  2862505.0  0.531"
      ]
     },
     "execution_count": 6,
     "metadata": {},
     "output_type": "execute_result"
    }
   ],
   "source": [
    "data.head()"
   ]
  },
  {
   "cell_type": "code",
   "execution_count": 14,
   "metadata": {},
   "outputs": [
    {
     "data": {
      "text/plain": [
       "array(['Legislative Branch', 'Judicial Branch',\n",
       "       'Department of Agriculture', 'Department of Commerce',\n",
       "       'Department of Defense--Military Programs',\n",
       "       'Department of Education', 'Department of Energy',\n",
       "       'Department of Health and Human Services',\n",
       "       'Department of Homeland Security',\n",
       "       'Department of Housing and Urban Development',\n",
       "       'Department of the Interior', 'Department of Justice',\n",
       "       'Department of Labor', 'Department of State',\n",
       "       'Department of Transportation', 'Department of the Treasury',\n",
       "       'Department of Veterans Affairs',\n",
       "       'Corps of Engineers--Civil Works', 'Other Defense Civil Programs',\n",
       "       'Environmental Protection Agency',\n",
       "       'Executive Office of the President',\n",
       "       'General Services Administration',\n",
       "       'International Assistance Programs',\n",
       "       'National Aeronautics and Space Administration',\n",
       "       'National Science Foundation', 'Office of Personnel Management',\n",
       "       'Small Business Administration',\n",
       "       'Social Security Administration (On-Budget)',\n",
       "       'Social Security Administration (Off-Budget)',\n",
       "       'Other Independent Agencies (On-Budget)',\n",
       "       'Other Independent Agencies (Off-Budget)', 'Allowances',\n",
       "       'Undistributed Offsetting Receipts', '(On-budget)', '(Off-budget)',\n",
       "       'Total budget authority'], dtype=object)"
      ]
     },
     "execution_count": 14,
     "metadata": {},
     "output_type": "execute_result"
    }
   ],
   "source": [
    "#budget.groupby(\"Year\").sum()\n",
    "budget['Name'].unique()"
   ]
  },
  {
   "cell_type": "code",
   "execution_count": 20,
   "metadata": {},
   "outputs": [
    {
     "data": {
      "text/plain": [
       "[None]"
      ]
     },
     "execution_count": 20,
     "metadata": {},
     "output_type": "execute_result"
    },
    {
     "data": {
      "image/png": "[encoded data removed]",
      "text/plain": [
       "<Figure size 640x480 with 1 Axes>"
      ]
     },
     "metadata": {},
     "output_type": "display_data"
    }
   ],
   "source": [
    "fig, ax = plt.subplots()\n",
    "education = budget[budget['Name'] == 'Department of Education']\n",
    "sns.lineplot(data=education, x='Year', y='Value')\n",
    "defense = budget[budget['Name'] == 'Department of Defense--Military Programs']\n",
    "sns.lineplot(data=defense, x='Year', y='Value', ax=ax)\n",
    "\n",
    "\n",
    "\n",
    "\n",
    "sns.lineplot(data=data, x='YEAR', y='GDP', ax=ax)"
   ]
  },
  {
   "cell_type": "code",
   "execution_count": null,
   "metadata": {},
   "outputs": [],
   "source": []
  }
 ],
 "metadata": {
  "kernelspec": {
   "display_name": "Python 3",
   "language": "python",
   "name": "python3"
  },
  "language_info": {
   "codemirror_mode": {
    "name": "ipython",
    "version": 3
   },
   "file_extension": ".py",
   "mimetype": "text/x-python",
   "name": "python",
   "nbconvert_exporter": "python",
   "pygments_lexer": "ipython3",
   "version": "3.9.5"
  },
  "orig_nbformat": 4
 },
 "nbformat": 4,
 "nbformat_minor": 2
}
